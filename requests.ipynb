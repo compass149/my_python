{
 "cells": [
  {
   "cell_type": "code",
   "execution_count": 6,
   "metadata": {},
   "outputs": [
    {
     "name": "stdout",
     "output_type": "stream",
     "text": [
      "<class 'requests.models.Response'>\n",
      "<!DOCTYPE html>\n",
      "<html lang=\"ko\">\n",
      "<head>\n",
      "    <meta charset=\"UTF-8\">\n",
      "    <meta name=\"viewport\" content=\"width=device-width, initial-scale=1.0\">\n",
      "    <title>페이지를 표시할 수 없습니다.</title>\n",
      "    <!-- Bootstrap CSS -->\n",
      "    <link href=\"/errorpage/static/css/bootstrap.min.css\" rel=\"stylesheet\">\n",
      "    <link href=\"/errorpage/static/css/httperror.css\" rel=\"stylesheet\">\n",
      "   \n",
      "</head>\n",
      "<body>\n",
      "    <!-- Navbar with only a brand logo -->\n",
      "    <nav class=\"navbar navbar-expand-lg\">\n",
      "        <a class=\"navbar-brand\" href=\"https://www.dothome.co.kr/\" target=\"_blank\"><img src=\"/errorpage/images/dothome.png\"  style=\"max-width:140px;\" alt=\"닷홈 로고\" /></a>\n",
      "    </nav>\n",
      "\n",
      "    <!-- Error container and message -->\n",
      "    <div class=\"container error-container\">\n",
      "        <div class=\"row\">\n",
      "            <div class=\"col-12\">\n",
      "                <!-- Replace 'path/to/your/image.png' with the actual path to your image -->\n",
      "                <img src=\"/errorpage/images/404.png\" class=\"error-image\" alt=\"Error Image\">\n",
      "                <div class=\"error-message\" style=\"margin-top:20px;\">페이지를 표시할 수 없습니다.</div>\n",
      "                <div class=\"error-message\">404 Not Found</div>\n",
      "                <p class=\"small_text\" style=\"margin:10px 0 0;\">요청하신 페이지를 찾을 수 없습니다.</p>\n",
      "                <p class=\"small_text\">입력하신 페이지의 주소를 다시 한번 확인해 주시길 바랍니다.</p>\n",
      "                <a class=\"btn btn-secondary\"  onclick=\"window.history.back(); return false;\" >이전 페이지로 이동</a>\n",
      "                <a class=\"btn btn-primary\" href=\"https://www.dothome.co.kr/\">닷홈으로 이동</a>\n",
      "            </div>\n",
      "        </div>\n",
      "    </div>\n",
      "    \n",
      "    <!-- Button section -->\n",
      "    <div class=\"container button-section\">\n",
      "        <!-- Repeat this block for each button -->\n",
      "        <a href=\"https://www.dothome.co.kr/domain/index.php\" target=\"_blank\" class=\"row align-items-center\">\n",
      "            <div class=\"col-auto\">\n",
      "                <div class=\"icon-wrapper\">\n",
      "                    <!-- Replace with your image path -->\n",
      "                    <img src=\"/errorpage/images/sevice_domain.png\" alt=\"domain_Icon\">\n",
      "                </div>\n",
      "            </div>\n",
      "            <div class=\"col\">\n",
      "                <div class=\"button-title\">도메인</div>\n",
      "                <div class=\"button-description\">신규 등록 할인쿠폰 제공, 최대 할인가! 13,500원</div>\n",
      "            </div>\n",
      "            <div class=\"col-auto\">\n",
      "                <div class=\"arrow-icon\"><img src=\"/errorpage/images/arrow.png\"></div>\n",
      "            </div>\n",
      "        </a>\n",
      "        <hr>\n",
      "        <a href=\"https://www.dothome.co.kr/web/product/price.php\" target=\"_blank\" class=\"row align-items-center\">\n",
      "            <div class=\"col-auto\">\n",
      "                <div class=\"icon-wrapper\">\n",
      "                    <!-- Replace with your image path -->\n",
      "                    <img src=\"/errorpage/images/sevice_hosting.png\" alt=\"hosting_Icon\">\n",
      "                </div>\n",
      "            </div>\n",
      "            <div class=\"col\">\n",
      "                <div class=\"button-title\">웹호스팅</div>\n",
      "                <div class=\"button-description\">다양한 PHP버전 및 워드프레스, 그누보드 자동설치 지원</div>\n",
      "            </div>\n",
      "            <div class=\"col-auto\">\n",
      "                <div class=\"arrow-icon\"><img src=\"/errorpage/images/arrow.png\"></div>\n",
      "            </div>\n",
      "        </a>\n",
      "        <hr>\n",
      "        <a href=\"https://www.dothome.co.kr/homepage/free_builder_index.php\" target=\"_blank\" class=\"row align-items-center\">\n",
      "            <div class=\"col-auto\">\n",
      "                <div class=\"icon-wrapper\">\n",
      "                    <!-- Replace with your image path -->\n",
      "                    <img src=\"/errorpage/images/sevice_free.png\" alt=\"free_Icon\">\n",
      "                </div>\n",
      "            </div>\n",
      "            <div class=\"col\">\n",
      "                <div class=\"button-title\">무료홈페이지</div>\n",
      "                <div class=\"button-description\">코딩 없이 클릭만으로 나만의 홈페이지 완성!</div>\n",
      "            </div>\n",
      "            <div class=\"col-auto\">\n",
      "                <div class=\"arrow-icon\"><img src=\"/errorpage/images/arrow.png\"></div>\n",
      "            </div>\n",
      "        </a>\n",
      "        <!-- Repeat end -->\n",
      "    </div>\n",
      "\n",
      "    <!-- Footer -->\n",
      "    <footer>\n",
      "        <p>Copyrightⓒdothome Corp. All Rights Reserved.</p>\n",
      "    </footer>\n",
      "\n",
      "    <!-- Bootstrap JS, Popper.js, and jQuery -->\n",
      "    <script src=\"/errorpage/static/js/bootstrap.min.js\"></script>\n",
      "</body>\n",
      "</html>\n",
      "\n",
      "==============================================================\n",
      "<class 'requests.models.Response'>\n",
      "응답된 콘텐츠가 없습니다.\n",
      "==============================================================\n",
      "<class 'requests.models.Response'>\n",
      "<!DOCTYPE html>\n",
      "<html>\n",
      "  <head>\n",
      "    <meta charset=\"utf-8\">\n",
      "    <title>POST TEST</title>\n",
      "  </head>\n",
      "  <body>\n",
      "   <h1>POST : 이름은 백도이고 나이는 12이네요!!</h1>   </body>\n",
      "</html>\n"
     ]
    }
   ],
   "source": [
    "import requests\n",
    "\n",
    "r = requests.request('get','http://unico2013.dothome.co.kr/crawling/exam.htmml')\n",
    "r.encoding='utf-8'\n",
    "print(type(r))\n",
    "if r.text:\n",
    "    print(r.text)\n",
    "else:\n",
    "    print('응답된 콘텐츠가 없습니다.')\n",
    "print(\"==============================================================\")\n",
    "r=requests.request('head','http://unico2013.dothome.co.kr/crawling/exam.html')\n",
    "r.encoding='utf-8'\n",
    "print(type(r))\n",
    "if r.text:\n",
    "    print(r.text)\n",
    "else:\n",
    "    print('응답된 콘텐츠가 없습니다.')\n",
    "print(\"==============================================================\")\n",
    "r=requests.request('post','http://unico2013.dothome.co.kr/crawling/post.php',data={'name':'백도','age':12})\n",
    "r.encoding = 'utf-8'\n",
    "print(type(r))\n",
    "if r.text:\n",
    "    print(r.text)\n",
    "else:\n",
    "    print('응답된 콘텐츠가 없습니다.')\n"
   ]
  },
  {
   "cell_type": "code",
   "execution_count": 14,
   "metadata": {},
   "outputs": [
    {
     "name": "stdout",
     "output_type": "stream",
     "text": [
      "<class 'requests.models.Response'>\n",
      "{'Date': 'Tue, 24 Sep 2024 04:57:55 GMT', 'Server': 'Apache/2.2.15 (CentOS)', 'Content-Length': '164', 'Connection': 'close', 'Content-Type': 'text/html'}\n",
      "<!DOCTYPE html>\n",
      "<html>\n",
      "<head>\n",
      "<meta charset=\"UTF-8\">\n",
      "<title>테스트</title>\n",
      "</head>\n",
      "<body>\n",
      "<h1>웹 크롤링을 테스트 합니다.</h1>\n",
      "</body>\n",
      "</html>\n"
     ]
    }
   ],
   "source": [
    "import requests\n",
    "r=requests.get('http://unico2013.dothome.co.kr/crawling/exam.html')\n",
    "r.encoding='utf-8'\n",
    "print(type(r))\n",
    "print(r.headers)\n",
    "if r.text:\n",
    "    print(r.text)\n",
    "else:\n",
    "    print('응답된 콘텐츠가 없습니다.')"
   ]
  },
  {
   "cell_type": "code",
   "execution_count": 15,
   "metadata": {},
   "outputs": [
    {
     "name": "stdout",
     "output_type": "stream",
     "text": [
      "<class 'requests.models.Response'>\n",
      "{'Date': 'Tue, 24 Sep 2024 04:58:09 GMT', 'Server': 'Apache/2.2.15 (CentOS)', 'Connection': 'close', 'Content-Type': 'text/html'}\n",
      "응답된 콘텐츠가 없습니다.\n"
     ]
    }
   ],
   "source": [
    "import requests\n",
    "r=requests.head('http://unico2013.dothome.co.kr/crawling/exam.html')\n",
    "print(type(r))\n",
    "print(r.headers)\n",
    "if r.text:\n",
    "    print(r.text)\n",
    "else:\n",
    "    print('응답된 콘텐츠가 없습니다.')"
   ]
  },
  {
   "cell_type": "code",
   "execution_count": 20,
   "metadata": {},
   "outputs": [
    {
     "name": "stdout",
     "output_type": "stream",
     "text": [
      "<!DOCTYPE html>\n",
      "<html>  \n",
      "  <head>    \n",
      "   <meta charset=\"utf-8\">    \n",
      "   <title>TEST</title>  \n",
      "  </head>  \n",
      "  <body>   \n",
      "    <h1 style='color : red'>카테고리 : 역사</h1>\n",
      "    <h2 style='color : blue'>페이지 : 25</h2>   \n",
      "  </body>\n",
      "</html>\n"
     ]
    }
   ],
   "source": [
    "import urllib.request\n",
    "import urllib.parse\n",
    "params = urllib.parse.urlencode({'category':'역사','page':25})\n",
    "url = \"http://unico2013.dothome.co.kr/crawling/exercise.php?%s\" % params \n",
    "with urllib.request.urlopen(url) as f:\n",
    "    print(f.read().decode('utf-8'))"
   ]
  },
  {
   "cell_type": "code",
   "execution_count": 21,
   "metadata": {},
   "outputs": [
    {
     "name": "stdout",
     "output_type": "stream",
     "text": [
      "<!DOCTYPE html>\n",
      "<html>  \n",
      "  <head>    \n",
      "   <meta charset=\"utf-8\">    \n",
      "   <title>TEST</title>  \n",
      "  </head>  \n",
      "  <body>   \n",
      "    <h1 style='color : red'>카테고리 : 여행</h1>\n",
      "    <h2 style='color : blue'>페이지 : 100</h2>   \n",
      "  </body>\n",
      "</html>\n"
     ]
    }
   ],
   "source": [
    "import requests\n",
    "dicdata={'category':'여행','page':100}\n",
    "urlstr='http://unico2013.dothome.co.kr/crawling/exercise.php'\n",
    "r=requests.get(urlstr, params=dicdata)\n",
    "r.encoding=\"utf-8\"\n",
    "print(r.text)"
   ]
  },
  {
   "cell_type": "markdown",
   "metadata": {},
   "source": []
  }
 ],
 "metadata": {
  "kernelspec": {
   "display_name": "Python 3",
   "language": "python",
   "name": "python3"
  },
  "language_info": {
   "codemirror_mode": {
    "name": "ipython",
    "version": 3
   },
   "file_extension": ".py",
   "mimetype": "text/x-python",
   "name": "python",
   "nbconvert_exporter": "python",
   "pygments_lexer": "ipython3",
   "version": "3.12.5"
  }
 },
 "nbformat": 4,
 "nbformat_minor": 2
}
