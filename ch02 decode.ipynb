{
 "cells": [
  {
   "cell_type": "code",
   "execution_count": 3,
   "metadata": {},
   "outputs": [
    {
     "name": "stdout",
     "output_type": "stream",
     "text": [
      "<http.client.HTTPResponse object at 0x0000010FF7FF1840>\n",
      "[header 정보]------\n",
      "('Date', 'Tue, 24 Sep 2024 02:28:40 GMT')\n",
      "('Server', 'Apache/2.2.15 (CentOS)')\n",
      "('Content-Length', '484')\n",
      "('Connection', 'close')\n",
      "('Content-Type', 'text/html')\n",
      "[body 내용]--------\n",
      "b'<!DOCTYPE html>\\n<html>\\n<head>\\n <meta http-equiv=\"content-type\" content=\"text/html; charset=utf-8\">\\n<title>HTML \\xed\\x95\\x99\\xec\\x8a\\xb5</title>\\n</head>\\n<body>\\n<h1>\\xeb\\xb8\\x94\\xeb\\x9f\\xad\\xec\\x8a\\xa4\\xed\\x83\\x80\\xec\\x9d\\xbc \\xed\\x83\\x9c\\xea\\xb7\\xb8</h1>\\n<div style=\"background-color:yellow\">\\xed\\x85\\x8c\\xec\\x8a\\xa4\\xed\\x8a\\xb8\\xec\\x9e\\x85\\xeb\\x8b\\x88\\xeb\\x8b\\xa41</div>\\n<div>\\xed\\x85\\x8c\\xec\\x8a\\xa4\\xed\\x8a\\xb8\\xec\\x9e\\x85\\xeb\\x8b\\x88\\xeb\\x8b\\xa42</div>\\n<div>\\xed\\x85\\x8c\\xec\\x8a\\xa4\\xed\\x8a\\xb8\\xec\\x9e\\x85\\xeb\\x8b\\x88\\xeb\\x8b\\xa43</div>\\n<hr>\\n<h1>\\xec\\x9d\\xb8\\xeb\\x9d\\xbc\\xec\\x9d\\xb8\\xec\\x8a\\xa4\\xed\\x83\\x80\\xec\\x9d\\xbc \\xed\\x83\\x9c\\xea\\xb7\\xb8</h1>\\n<span style=\"background-color:yellow\">\\xed\\x85\\x8c\\xec\\x8a\\xa4\\xed\\x8a\\xb8\\xec\\x9e\\x85\\xeb\\x8b\\x88\\xeb\\x8b\\xa41</span>\\n<span>\\xed\\x85\\x8c\\xec\\x8a\\xa4\\xed\\x8a\\xb8\\xec\\x9e\\x85\\xeb\\x8b\\x88\\xeb\\x8b\\xa42</span>\\n<span>\\xed\\x85\\x8c\\xec\\x8a\\xa4\\xed\\x8a\\xb8\\xec\\x9e\\x85\\xeb\\x8b\\x88\\xeb\\x8b\\xa43</span>\\n</body>\\n</html>'\n",
      "\n"
     ]
    }
   ],
   "source": [
    "import urllib.request\n",
    "url=\"http://unico2013.dothome.co.kr/crawling/tagstyle.html\"\n",
    "res=urllib.request.urlopen(url)\n",
    "print(res)\n",
    "print(\"[header 정보]------\")\n",
    "res_header=res.getheaders()\n",
    "for s in res_header:\n",
    "    print(s)\n",
    "print(\"[body 내용]--------\")\n",
    "print(res.read())\n",
    "print(res.read().decode('utf-8'))"
   ]
  }
 ],
 "metadata": {
  "kernelspec": {
   "display_name": "Python 3",
   "language": "python",
   "name": "python3"
  },
  "language_info": {
   "codemirror_mode": {
    "name": "ipython",
    "version": 3
   },
   "file_extension": ".py",
   "mimetype": "text/x-python",
   "name": "python",
   "nbconvert_exporter": "python",
   "pygments_lexer": "ipython3",
   "version": "3.12.5"
  }
 },
 "nbformat": 4,
 "nbformat_minor": 2
}
