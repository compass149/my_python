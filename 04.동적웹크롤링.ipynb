{
 "cells": [
  {
   "cell_type": "code",
   "execution_count": 3,
   "metadata": {},
   "outputs": [
    {
     "name": "stdout",
     "output_type": "stream",
     "text": [
      "[]\n"
     ]
    }
   ],
   "source": [
    "import urllib.request\n",
    "from bs4 import BeautifulSoup\n",
    "#서버접속\n",
    "server = urllib.request.urlopen(\"https://www.istarbucks.co.kr/store/store_map.do\")\n",
    "\n",
    "response = server.read().decode()\n",
    "bs = BeautifulSoup(response, \"html.parser\")\n",
    "li = bs.find_all('li', class_=\"quickResultLstCon\")\n",
    "print(li)\n"
   ]
  },
  {
   "cell_type": "code",
   "execution_count": 4,
   "metadata": {},
   "outputs": [],
   "source": [
    "from selenium import webdriver\n",
    "\n",
    "driver=webdriver.Chrome()\n",
    "driver.implicitly_wait(3)\n",
    "driver.get(\"https://www.istarbucks.co.kr/store/store_map.do\")\n",
    "target = driver"
   ]
  },
  {
   "cell_type": "code",
   "execution_count": 5,
   "metadata": {},
   "outputs": [
    {
     "ename": "NameError",
     "evalue": "name 'By' is not defined",
     "output_type": "error",
     "traceback": [
      "\u001b[1;31m---------------------------------------------------------------------------\u001b[0m",
      "\u001b[1;31mNameError\u001b[0m                                 Traceback (most recent call last)",
      "Cell \u001b[1;32mIn[5], line 4\u001b[0m\n\u001b[0;32m      2\u001b[0m driver\u001b[38;5;241m.\u001b[39mimplicitly_wait(\u001b[38;5;241m3\u001b[39m)\n\u001b[0;32m      3\u001b[0m driver\u001b[38;5;241m.\u001b[39mget(\u001b[38;5;124m'\u001b[39m\u001b[38;5;124mhttps://nid.naver.com/nidlogin.login\u001b[39m\u001b[38;5;124m'\u001b[39m)\n\u001b[1;32m----> 4\u001b[0m driver\u001b[38;5;241m.\u001b[39mfind_element(\u001b[43mBy\u001b[49m\u001b[38;5;241m.\u001b[39mNAME,\u001b[38;5;124m'\u001b[39m\u001b[38;5;124mid\u001b[39m\u001b[38;5;124m'\u001b[39m)\u001b[38;5;241m.\u001b[39msend_keys(\u001b[38;5;124m'\u001b[39m\u001b[38;5;124mnaverId\u001b[39m\u001b[38;5;124m'\u001b[39m)\n\u001b[0;32m      5\u001b[0m driver\u001b[38;5;241m.\u001b[39mfind_element(By\u001b[38;5;241m.\u001b[39mNAME,\u001b[38;5;124m'\u001b[39m\u001b[38;5;124mpw\u001b[39m\u001b[38;5;124m'\u001b[39m)\u001b[38;5;241m.\u001b[39msend_keys(\u001b[38;5;124m'\u001b[39m\u001b[38;5;124m비밀번호\u001b[39m\u001b[38;5;124m'\u001b[39m)\n\u001b[0;32m      6\u001b[0m \u001b[38;5;66;03m##로그인 버튼 누르기\u001b[39;00m\n\u001b[0;32m      7\u001b[0m \u001b[38;5;66;03m#driver.find_element(By.ID, 'log.login').click()\u001b[39;00m\n",
      "\u001b[1;31mNameError\u001b[0m: name 'By' is not defined"
     ]
    }
   ],
   "source": [
    "driver = webdriver.Chrome()\n",
    "driver.implicitly_wait(3)\n",
    "driver.get('https://nid.naver.com/nidlogin.login')\n",
    "driver.find_element(By.NAME,'id').send_keys('naverId')\n",
    "driver.find_element(By.NAME,'pw').send_keys('비밀번호')\n",
    "##로그인 버튼 누르기\n",
    "#driver.find_element(By.ID, 'log.login').click()\n",
    "driver.find_element(By.XPATH,'//*[@id=\"log.login\"]').click()"
   ]
  },
  {
   "cell_type": "code",
   "execution_count": 7,
   "metadata": {},
   "outputs": [],
   "source": [
    "from bs4 import BeautifulSoup\n",
    "from selenium import webdriver\n",
    "driver = webdriver.Chrome()\n",
    "driver.get('https://order.pay.naver.com/home')\n",
    "html = driver.page_source\n",
    "soup = BeautifulSoup(html, 'html.parser')\n",
    "notices = soup.select('div.goods_item > div > a>p')\n",
    "\n",
    "for n in notices:\n",
    "    print(n.text.strip())"
   ]
  },
  {
   "cell_type": "code",
   "execution_count": 11,
   "metadata": {},
   "outputs": [
    {
     "ename": "NameError",
     "evalue": "name 'PDFResourceManager' is not defined",
     "output_type": "error",
     "traceback": [
      "\u001b[1;31m---------------------------------------------------------------------------\u001b[0m",
      "\u001b[1;31mNameError\u001b[0m                                 Traceback (most recent call last)",
      "Cell \u001b[1;32mIn[11], line 17\u001b[0m\n\u001b[0;32m     15\u001b[0m     \u001b[38;5;28;01mreturn\u001b[39;00m content\n\u001b[0;32m     16\u001b[0m pdfFile \u001b[38;5;241m=\u001b[39m urlopen(\u001b[38;5;124m\"\u001b[39m\u001b[38;5;124mhttp://www.pythonscraping.com/pages/warandpeace/chapter1.pdf\u001b[39m\u001b[38;5;124m\"\u001b[39m)\n\u001b[1;32m---> 17\u001b[0m outputString \u001b[38;5;241m=\u001b[39m \u001b[43mreadPDF\u001b[49m\u001b[43m(\u001b[49m\u001b[43mpdfFile\u001b[49m\u001b[43m)\u001b[49m\n\u001b[0;32m     18\u001b[0m \u001b[38;5;28mprint\u001b[39m(outputString)\n\u001b[0;32m     19\u001b[0m pdfFile\u001b[38;5;241m.\u001b[39mclose()\n",
      "Cell \u001b[1;32mIn[11], line 6\u001b[0m, in \u001b[0;36mreadPDF\u001b[1;34m(pdfFile)\u001b[0m\n\u001b[0;32m      5\u001b[0m \u001b[38;5;28;01mdef\u001b[39;00m \u001b[38;5;21mreadPDF\u001b[39m (pdfFile):\n\u001b[1;32m----> 6\u001b[0m     rsrcmgr\u001b[38;5;241m=\u001b[39m\u001b[43mPDFResourceManager\u001b[49m() \u001b[38;5;66;03m#pdf 리소스 관리\u001b[39;00m\n\u001b[0;32m      7\u001b[0m     retstr\u001b[38;5;241m=\u001b[39mStringIO() \u001b[38;5;66;03m#PDF 내부의 텍스트 입출력을 위한 객체\u001b[39;00m\n\u001b[0;32m      8\u001b[0m     laparams\u001b[38;5;241m=\u001b[39mLAParams() \u001b[38;5;66;03m#파라미터 객체\u001b[39;00m\n",
      "\u001b[1;31mNameError\u001b[0m: name 'PDFResourceManager' is not defined"
     ]
    }
   ],
   "source": [
    "import urllib.request\n",
    "from bs4 import BeautifulSoup\n",
    "from urllib.request import urlopen\n",
    "\n",
    "def readPDF (pdfFile):\n",
    "    rsrcmgr=PDFResourceManager() #pdf 리소스 관리\n",
    "    retstr=StringIO() #PDF 내부의 텍스트 입출력을 위한 객체\n",
    "    laparams=LAParams() #파라미터 객체\n",
    "    # pdf 내용을 텍스트로 반환하기 위한 객체\n",
    "    device = TextConverter(rsrcmgr, retstr, laparams=laparams)\n",
    "    process_pdf(rsrcmgr, device, pdfFile) #pdf 내용을 텍스트로 변환하는 작업\n",
    "    device.close()\n",
    "    content = retstr.getvalue() #리턴되는 스트링\n",
    "    retstr.close()\n",
    "    return content\n",
    "pdfFile = urlopen(\"http://www.pythonscraping.com/pages/warandpeace/chapter1.pdf\")\n",
    "outputString = readPDF(pdfFile)\n",
    "print(outputString)\n",
    "pdfFile.close()\n",
    "with open (\"C:/big_data/result.hwp\",'w') as f:\n",
    "    f.write(outputString)\n",
    "    print(\"저장완료\")"
   ]
  }
 ],
 "metadata": {
  "kernelspec": {
   "display_name": "Python 3",
   "language": "python",
   "name": "python3"
  },
  "language_info": {
   "codemirror_mode": {
    "name": "ipython",
    "version": 3
   },
   "file_extension": ".py",
   "mimetype": "text/x-python",
   "name": "python",
   "nbconvert_exporter": "python",
   "pygments_lexer": "ipython3",
   "version": "3.12.5"
  }
 },
 "nbformat": 4,
 "nbformat_minor": 2
}
