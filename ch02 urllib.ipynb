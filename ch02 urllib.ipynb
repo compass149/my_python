{
 "cells": [
  {
   "cell_type": "code",
   "execution_count": 1,
   "metadata": {},
   "outputs": [
    {
     "name": "stdout",
     "output_type": "stream",
     "text": [
      "<class 'http.client.HTTPResponse'>\n",
      "200\n",
      "11\n",
      "OK\n",
      "[header 정보]--------\n",
      "('Date', 'Tue, 24 Sep 2024 02:16:54 GMT')\n",
      "('content-type', 'text/html; charset=UTF-8')\n",
      "('transfer-encoding', 'chunked')\n",
      "('set-cookie', 'PM_CK_loc=6a99d2fc1b5471d9d14cea36ec9cb8cc7100a811dff9a1acefd44d4e027bb25e; Expires=Wed, 25 Sep 2024 02:16:54 GMT; Path=/; HttpOnly')\n",
      "('cache-control', 'no-cache, no-store, must-revalidate')\n",
      "('pragma', 'no-cache')\n",
      "('x-frame-options', 'DENY')\n",
      "('x-xss-protection', '1; mode=block')\n",
      "('strict-transport-security', 'max-age=63072000; includeSubdomains')\n",
      "('referrer-policy', 'unsafe-url')\n",
      "('server', 'nfront')\n",
      "('connection', 'close')\n"
     ]
    }
   ],
   "source": [
    "import urllib.request\n",
    "res=urllib.request.urlopen(\"http://www.naver.com/\")\n",
    "print(type(res))\n",
    "print(res.status)\n",
    "print(res.version)\n",
    "print(res.msg)\n",
    "res_header = res.getheaders()\n",
    "print(\"[header 정보]--------\")\n",
    "for s in res_header:\n",
    "    print(s)"
   ]
  }
 ],
 "metadata": {
  "kernelspec": {
   "display_name": "Python 3",
   "language": "python",
   "name": "python3"
  },
  "language_info": {
   "codemirror_mode": {
    "name": "ipython",
    "version": 3
   },
   "file_extension": ".py",
   "mimetype": "text/x-python",
   "name": "python",
   "nbconvert_exporter": "python",
   "pygments_lexer": "ipython3",
   "version": "3.12.5"
  }
 },
 "nbformat": 4,
 "nbformat_minor": 2
}
