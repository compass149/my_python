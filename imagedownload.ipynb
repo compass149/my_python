{
 "cells": [
  {
   "cell_type": "code",
   "execution_count": 6,
   "metadata": {},
   "outputs": [
    {
     "name": "stdout",
     "output_type": "stream",
     "text": [
      "저장되었습니다...\n"
     ]
    }
   ],
   "source": [
    "#이미지 다운로드 방법1\n",
    "import urllib.request\n",
    "#이미지 주소 복사\n",
    "url=\"https://img-s-msn-com.akamaized.net/tenant/amp/entityid/BB1msG0V.img\"\n",
    "savename=\"C:/OEH/test2.jpg\"\n",
    "urllib.request.urlretrieve(url,savename)\n",
    "print(\"저장되었습니다...\")\n",
    "\n"
   ]
  },
  {
   "cell_type": "code",
   "execution_count": 5,
   "metadata": {},
   "outputs": [
    {
     "name": "stdout",
     "output_type": "stream",
     "text": [
      "저장되었습니다.\n"
     ]
    }
   ],
   "source": [
    "#이미지 다운로드 방법2\n",
    "import urllib.request\n",
    "#이미지 주소 복사\n",
    "url=\"https://img-s-msn-com.akamaized.net/tenant/amp/entityid/BB1msG0V.img\"\n",
    "savename=\"C:/OEH/test3.jpg\"\n",
    "image=urllib.request.urlopen(url).read()\n",
    "with open(savename, mode=\"wb\") as f:\n",
    "    f.write(image)\n",
    "    print(\"저장되었습니다.\")"
   ]
  }
 ],
 "metadata": {
  "kernelspec": {
   "display_name": "Python 3",
   "language": "python",
   "name": "python3"
  },
  "language_info": {
   "codemirror_mode": {
    "name": "ipython",
    "version": 3
   },
   "file_extension": ".py",
   "mimetype": "text/x-python",
   "name": "python",
   "nbconvert_exporter": "python",
   "pygments_lexer": "ipython3",
   "version": "3.12.5"
  }
 },
 "nbformat": 4,
 "nbformat_minor": 2
}
